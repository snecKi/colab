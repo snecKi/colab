{
  "nbformat": 4,
  "nbformat_minor": 0,
  "metadata": {
    "colab": {
      "name": "Untitled0.ipynb",
      "provenance": [],
      "collapsed_sections": [],
      "mount_file_id": "1CVloiTmuuffePA48cX4YvMyC7u7f1sk7",
      "authorship_tag": "ABX9TyO35WsVIQNh8YO0tJ/mHbr2",
      "include_colab_link": true
    },
    "kernelspec": {
      "name": "python3",
      "display_name": "Python 3"
    },
    "language_info": {
      "name": "python"
    }
  },
  "cells": [
    {
      "cell_type": "markdown",
      "metadata": {
        "id": "view-in-github",
        "colab_type": "text"
      },
      "source": [
        "<a href=\"https://colab.research.google.com/github/snecKi/colab/blob/master/Untitled0.ipynb\" target=\"_parent\"><img src=\"https://colab.research.google.com/assets/colab-badge.svg\" alt=\"Open In Colab\"/></a>"
      ]
    },
    {
      "cell_type": "code",
      "execution_count": null,
      "metadata": {
        "colab": {
          "base_uri": "https://localhost:8080/"
        },
        "id": "U3o-xeOaDt7j",
        "outputId": "b26e349e-d1a1-49df-c29e-06328e8ae8a3"
      },
      "outputs": [
        {
          "output_type": "stream",
          "name": "stdout",
          "text": [
            "저장완료\n"
          ]
        }
      ],
      "source": [
        "import urllib.request\n",
        "url = \"http://uta.pw/shodou/img/28/214.png\"\n",
        "savename =\"test.png\"\n",
        "urllib.request.urlretrieve(url, savename)\n",
        "print(\"저장완료\")"
      ]
    },
    {
      "cell_type": "code",
      "source": [
        ""
      ],
      "metadata": {
        "id": "9HdeJ_RZEYus"
      },
      "execution_count": null,
      "outputs": []
    }
  ]
}